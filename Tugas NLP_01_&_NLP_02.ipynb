{
  "nbformat": 4,
  "nbformat_minor": 0,
  "metadata": {
    "colab": {
      "name": "Copy of Case Study: NLP_01 & NLP_02.ipynb",
      "provenance": [],
      "collapsed_sections": [],
      "include_colab_link": true
    },
    "kernelspec": {
      "name": "python3",
      "display_name": "Python 3"
    },
    "language_info": {
      "name": "python"
    }
  },
  "cells": [
    {
      "cell_type": "markdown",
      "metadata": {
        "id": "view-in-github",
        "colab_type": "text"
      },
      "source": [
        "<a href=\"https://colab.research.google.com/github/Akanerd/NaturalLanguangeProcessing-Orbit/blob/main/Tugas%20NLP_01_%26_NLP_02.ipynb\" target=\"_parent\"><img src=\"https://colab.research.google.com/assets/colab-badge.svg\" alt=\"Open In Colab\"/></a>"
      ]
    },
    {
      "cell_type": "markdown",
      "source": [
        "# Case Study: SMS Spam Classification\n",
        "**26 Maret 2022, Review NLP_01 & NLP_02** \n",
        "\n",
        "Created by NLP SQUAD Orbit Future Academy<br>\n",
        "\n",
        "Hari ini, kita akan menyelesaikan kasus klasifikasi SMS spam menggunakan skema seperti gambar di bawah ini.\n",
        "\n",
        "![title](https://undangmi.com/wp-content/uploads/2022/03/Screen-Shot-2022-03-26-at-23.14.46.png)\n",
        "\n",
        "Langkah-langkah penyelesaian melitputi:\n",
        "1. Data collection\n",
        "2. Pre-processing\n",
        "   1. Case Folding\n",
        "   2. Filtering\n",
        "   3. Stopword\n",
        "   4. Stemming\n",
        "3. Feature Extraction\n",
        "   1. BoW\n",
        "   2. TF-IDF\n",
        "4. Feature Selection\n",
        "   1. Chi-Square\n",
        "\n",
        "Pada kasus ini, kita menggunakan data set berbahasa indonesia, sehingga kita membutuhkan *Library Sastrawi* untuk menyelesaikan beberapa permasalahan seperti *stemming*.\n"
      ],
      "metadata": {
        "id": "DgMk7bvOuO4H"
      }
    },
    {
      "cell_type": "code",
      "execution_count": 3,
      "metadata": {
        "id": "3jVGiQ4nr4uK"
      },
      "outputs": [],
      "source": [
        "import pandas as pd\n",
        "import numpy as np\n",
        "import matplotlib.pyplot as plt\n",
        "\n",
        "# Untuk mempermudah, simpan setiap objek agar dapat digunakan untuk pemodelan maupun deployment. Gunakan library Pickle\n",
        "import pickle\n",
        "\n",
        "%matplotlib inline"
      ]
    },
    {
      "cell_type": "code",
      "source": [
        "!pip -q install sastrawi"
      ],
      "metadata": {
        "id": "7dZEvPfm0-gP"
      },
      "execution_count": 4,
      "outputs": []
    },
    {
      "cell_type": "code",
      "source": [
        "import nltk\n",
        "nltk.download('stopwords')"
      ],
      "metadata": {
        "colab": {
          "base_uri": "https://localhost:8080/"
        },
        "id": "l990x7Ec2J3Y",
        "outputId": "19ab8f3f-7550-4238-b320-24b854efe32d"
      },
      "execution_count": 5,
      "outputs": [
        {
          "output_type": "stream",
          "name": "stdout",
          "text": [
            "[nltk_data] Downloading package stopwords to /root/nltk_data...\n",
            "[nltk_data]   Package stopwords is already up-to-date!\n"
          ]
        },
        {
          "output_type": "execute_result",
          "data": {
            "text/plain": [
              "True"
            ]
          },
          "metadata": {},
          "execution_count": 5
        }
      ]
    },
    {
      "cell_type": "markdown",
      "source": [
        "# Data Acquisition\n",
        "\n",
        "Penjelasan Label \n",
        "* 0: SMS normal \n",
        "* 1: SMS fraud atau penipuan \n",
        "* 2: SMS promo"
      ],
      "metadata": {
        "id": "Cwyw4gq1sLo0"
      }
    },
    {
      "cell_type": "code",
      "source": [
        "!wget https://raw.githubusercontent.com/ksnugroho/klasifikasi-spam-sms/master/data/dataset_sms_spam_v1.csv"
      ],
      "metadata": {
        "colab": {
          "base_uri": "https://localhost:8080/"
        },
        "id": "wgvivXY-s5zR",
        "outputId": "ca268a15-4848-464a-958b-c973dc5d08f9"
      },
      "execution_count": 6,
      "outputs": [
        {
          "output_type": "stream",
          "name": "stdout",
          "text": [
            "--2022-03-28 16:33:35--  https://raw.githubusercontent.com/ksnugroho/klasifikasi-spam-sms/master/data/dataset_sms_spam_v1.csv\n",
            "Resolving raw.githubusercontent.com (raw.githubusercontent.com)... 185.199.108.133, 185.199.109.133, 185.199.110.133, ...\n",
            "Connecting to raw.githubusercontent.com (raw.githubusercontent.com)|185.199.108.133|:443... connected.\n",
            "HTTP request sent, awaiting response... 200 OK\n",
            "Length: 128896 (126K) [text/plain]\n",
            "Saving to: ‘dataset_sms_spam_v1.csv.2’\n",
            "\n",
            "dataset_sms_spam_v1 100%[===================>] 125.88K  --.-KB/s    in 0.004s  \n",
            "\n",
            "2022-03-28 16:33:35 (30.8 MB/s) - ‘dataset_sms_spam_v1.csv.2’ saved [128896/128896]\n",
            "\n"
          ]
        }
      ]
    },
    {
      "cell_type": "code",
      "source": [
        "data = pd.read_csv('dataset_sms_spam_v1.csv')\n",
        "\n",
        "data.head()"
      ],
      "metadata": {
        "colab": {
          "base_uri": "https://localhost:8080/",
          "height": 206
        },
        "id": "gYItGX_jtL3b",
        "outputId": "67a1e770-1d4e-4ab1-e0f1-17ab0250a163"
      },
      "execution_count": 7,
      "outputs": [
        {
          "output_type": "execute_result",
          "data": {
            "text/plain": [
              "                                                teks  label\n",
              "0  [PROMO] Beli paket Flash mulai 1GB di MY TELKO...      2\n",
              "1  2.5 GB/30 hari hanya Rp 35 Ribu Spesial buat A...      2\n",
              "2  2016-07-08 11:47:11.Plg Yth, sisa kuota Flash ...      2\n",
              "3  2016-08-07 11:29:47.Plg Yth, sisa kuota Flash ...      2\n",
              "4  4.5GB/30 hari hanya Rp 55 Ribu Spesial buat an...      2"
            ],
            "text/html": [
              "\n",
              "  <div id=\"df-4e3492f2-34d5-4ff0-85d3-faaf5b69375f\">\n",
              "    <div class=\"colab-df-container\">\n",
              "      <div>\n",
              "<style scoped>\n",
              "    .dataframe tbody tr th:only-of-type {\n",
              "        vertical-align: middle;\n",
              "    }\n",
              "\n",
              "    .dataframe tbody tr th {\n",
              "        vertical-align: top;\n",
              "    }\n",
              "\n",
              "    .dataframe thead th {\n",
              "        text-align: right;\n",
              "    }\n",
              "</style>\n",
              "<table border=\"1\" class=\"dataframe\">\n",
              "  <thead>\n",
              "    <tr style=\"text-align: right;\">\n",
              "      <th></th>\n",
              "      <th>teks</th>\n",
              "      <th>label</th>\n",
              "    </tr>\n",
              "  </thead>\n",
              "  <tbody>\n",
              "    <tr>\n",
              "      <th>0</th>\n",
              "      <td>[PROMO] Beli paket Flash mulai 1GB di MY TELKO...</td>\n",
              "      <td>2</td>\n",
              "    </tr>\n",
              "    <tr>\n",
              "      <th>1</th>\n",
              "      <td>2.5 GB/30 hari hanya Rp 35 Ribu Spesial buat A...</td>\n",
              "      <td>2</td>\n",
              "    </tr>\n",
              "    <tr>\n",
              "      <th>2</th>\n",
              "      <td>2016-07-08 11:47:11.Plg Yth, sisa kuota Flash ...</td>\n",
              "      <td>2</td>\n",
              "    </tr>\n",
              "    <tr>\n",
              "      <th>3</th>\n",
              "      <td>2016-08-07 11:29:47.Plg Yth, sisa kuota Flash ...</td>\n",
              "      <td>2</td>\n",
              "    </tr>\n",
              "    <tr>\n",
              "      <th>4</th>\n",
              "      <td>4.5GB/30 hari hanya Rp 55 Ribu Spesial buat an...</td>\n",
              "      <td>2</td>\n",
              "    </tr>\n",
              "  </tbody>\n",
              "</table>\n",
              "</div>\n",
              "      <button class=\"colab-df-convert\" onclick=\"convertToInteractive('df-4e3492f2-34d5-4ff0-85d3-faaf5b69375f')\"\n",
              "              title=\"Convert this dataframe to an interactive table.\"\n",
              "              style=\"display:none;\">\n",
              "        \n",
              "  <svg xmlns=\"http://www.w3.org/2000/svg\" height=\"24px\"viewBox=\"0 0 24 24\"\n",
              "       width=\"24px\">\n",
              "    <path d=\"M0 0h24v24H0V0z\" fill=\"none\"/>\n",
              "    <path d=\"M18.56 5.44l.94 2.06.94-2.06 2.06-.94-2.06-.94-.94-2.06-.94 2.06-2.06.94zm-11 1L8.5 8.5l.94-2.06 2.06-.94-2.06-.94L8.5 2.5l-.94 2.06-2.06.94zm10 10l.94 2.06.94-2.06 2.06-.94-2.06-.94-.94-2.06-.94 2.06-2.06.94z\"/><path d=\"M17.41 7.96l-1.37-1.37c-.4-.4-.92-.59-1.43-.59-.52 0-1.04.2-1.43.59L10.3 9.45l-7.72 7.72c-.78.78-.78 2.05 0 2.83L4 21.41c.39.39.9.59 1.41.59.51 0 1.02-.2 1.41-.59l7.78-7.78 2.81-2.81c.8-.78.8-2.07 0-2.86zM5.41 20L4 18.59l7.72-7.72 1.47 1.35L5.41 20z\"/>\n",
              "  </svg>\n",
              "      </button>\n",
              "      \n",
              "  <style>\n",
              "    .colab-df-container {\n",
              "      display:flex;\n",
              "      flex-wrap:wrap;\n",
              "      gap: 12px;\n",
              "    }\n",
              "\n",
              "    .colab-df-convert {\n",
              "      background-color: #E8F0FE;\n",
              "      border: none;\n",
              "      border-radius: 50%;\n",
              "      cursor: pointer;\n",
              "      display: none;\n",
              "      fill: #1967D2;\n",
              "      height: 32px;\n",
              "      padding: 0 0 0 0;\n",
              "      width: 32px;\n",
              "    }\n",
              "\n",
              "    .colab-df-convert:hover {\n",
              "      background-color: #E2EBFA;\n",
              "      box-shadow: 0px 1px 2px rgba(60, 64, 67, 0.3), 0px 1px 3px 1px rgba(60, 64, 67, 0.15);\n",
              "      fill: #174EA6;\n",
              "    }\n",
              "\n",
              "    [theme=dark] .colab-df-convert {\n",
              "      background-color: #3B4455;\n",
              "      fill: #D2E3FC;\n",
              "    }\n",
              "\n",
              "    [theme=dark] .colab-df-convert:hover {\n",
              "      background-color: #434B5C;\n",
              "      box-shadow: 0px 1px 3px 1px rgba(0, 0, 0, 0.15);\n",
              "      filter: drop-shadow(0px 1px 2px rgba(0, 0, 0, 0.3));\n",
              "      fill: #FFFFFF;\n",
              "    }\n",
              "  </style>\n",
              "\n",
              "      <script>\n",
              "        const buttonEl =\n",
              "          document.querySelector('#df-4e3492f2-34d5-4ff0-85d3-faaf5b69375f button.colab-df-convert');\n",
              "        buttonEl.style.display =\n",
              "          google.colab.kernel.accessAllowed ? 'block' : 'none';\n",
              "\n",
              "        async function convertToInteractive(key) {\n",
              "          const element = document.querySelector('#df-4e3492f2-34d5-4ff0-85d3-faaf5b69375f');\n",
              "          const dataTable =\n",
              "            await google.colab.kernel.invokeFunction('convertToInteractive',\n",
              "                                                     [key], {});\n",
              "          if (!dataTable) return;\n",
              "\n",
              "          const docLinkHtml = 'Like what you see? Visit the ' +\n",
              "            '<a target=\"_blank\" href=https://colab.research.google.com/notebooks/data_table.ipynb>data table notebook</a>'\n",
              "            + ' to learn more about interactive tables.';\n",
              "          element.innerHTML = '';\n",
              "          dataTable['output_type'] = 'display_data';\n",
              "          await google.colab.output.renderOutput(dataTable, element);\n",
              "          const docLink = document.createElement('div');\n",
              "          docLink.innerHTML = docLinkHtml;\n",
              "          element.appendChild(docLink);\n",
              "        }\n",
              "      </script>\n",
              "    </div>\n",
              "  </div>\n",
              "  "
            ]
          },
          "metadata": {},
          "execution_count": 7
        }
      ]
    },
    {
      "cell_type": "code",
      "source": [
        "data.info()"
      ],
      "metadata": {
        "colab": {
          "base_uri": "https://localhost:8080/"
        },
        "id": "fmPgkrIltdLj",
        "outputId": "5c04cb64-c98c-4534-f0a0-b0fc8962b406"
      },
      "execution_count": 8,
      "outputs": [
        {
          "output_type": "stream",
          "name": "stdout",
          "text": [
            "<class 'pandas.core.frame.DataFrame'>\n",
            "RangeIndex: 1143 entries, 0 to 1142\n",
            "Data columns (total 2 columns):\n",
            " #   Column  Non-Null Count  Dtype \n",
            "---  ------  --------------  ----- \n",
            " 0   teks    1143 non-null   object\n",
            " 1   label   1143 non-null   int64 \n",
            "dtypes: int64(1), object(1)\n",
            "memory usage: 18.0+ KB\n"
          ]
        }
      ]
    },
    {
      "cell_type": "code",
      "source": [
        "print('Total Jumlah SMS:', data.shape[0], 'data\\n')\n",
        "print('terdiri dari (label):')\n",
        "print('-- [0] SMS Normal\\t:', data[data.label == 0].shape[0], 'data')\n",
        "print('-- [1] Fraud / Penipuan\\t:', data[data.label == 1].shape[0], 'data')\n",
        "print('-- [2] Promo\\t\\t:', data[data.label == 2].shape[0], 'data\\n')"
      ],
      "metadata": {
        "colab": {
          "base_uri": "https://localhost:8080/"
        },
        "id": "Ikc4rlDztnZh",
        "outputId": "8ba6dc6b-1ece-487c-b5c8-6e2ee41b4cfe"
      },
      "execution_count": 9,
      "outputs": [
        {
          "output_type": "stream",
          "name": "stdout",
          "text": [
            "Total Jumlah SMS: 1143 data\n",
            "\n",
            "terdiri dari (label):\n",
            "-- [0] SMS Normal\t: 569 data\n",
            "-- [1] Fraud / Penipuan\t: 335 data\n",
            "-- [2] Promo\t\t: 239 data\n",
            "\n"
          ]
        }
      ]
    },
    {
      "cell_type": "code",
      "source": [
        "height = data['label'].value_counts()\n",
        "labels = ('SMS Normal', 'SMS Fraud / Penipuan', 'SMS Promo')\n",
        "y_pos = np.arange(len(labels))\n",
        "\n",
        "plt.figure(figsize=(7,4), dpi=80)\n",
        "plt.ylim(0,600)\n",
        "plt.title('Distribusi Kategori SMS', fontweight='bold')\n",
        "plt.xlabel('Kategori', fontweight='bold')\n",
        "plt.ylabel('Jumlah', fontweight='bold')\n",
        "plt.bar(y_pos, height, color=['deepskyblue', 'royalblue', 'skyblue'])\n",
        "plt.xticks(y_pos, labels)\n",
        "plt.show()"
      ],
      "metadata": {
        "colab": {
          "base_uri": "https://localhost:8080/",
          "height": 323
        },
        "id": "uYLfyS4ut0ID",
        "outputId": "dfdd3208-c2f1-4522-f83a-295cf099c76b"
      },
      "execution_count": 10,
      "outputs": [
        {
          "output_type": "display_data",
          "data": {
            "text/plain": [
              "<Figure size 560x320 with 1 Axes>"
            ],
            "image/png": "[encoded data removed]"
          },
          "metadata": {
            "needs_background": "light"
          }
        }
      ]
    },
    {
      "cell_type": "markdown",
      "source": [
        "# Text Preprocessing"
      ],
      "metadata": {
        "id": "xod-gciUsNF4"
      }
    },
    {
      "cell_type": "markdown",
      "source": [
        "## Case Folding"
      ],
      "metadata": {
        "id": "24IOM3key9Pt"
      }
    },
    {
      "cell_type": "code",
      "source": [
        "import re\n",
        "\n",
        "# Buat fungsi untuk langkah case folding\n",
        "def casefolding(text):\n",
        "  text = text.lower()                               # Mengubah teks menjadi lower case\n",
        "  text = re.sub(r'https?://\\S+|www\\.\\S+', '', text) # Menghapus URL\n",
        "  text = re.sub(r'[-+]?[0-9]+', '', text)           # Menghapus angka\n",
        "  text = re.sub(r'[^\\w\\s]','', text)                # Menghapus karakter tanda baca\n",
        "  text = text.strip()\n",
        "  return text"
      ],
      "metadata": {
        "id": "Cu5YB-9yzEDf"
      },
      "execution_count": 11,
      "outputs": []
    },
    {
      "cell_type": "code",
      "source": [
        "raw_sample = data['teks'].iloc[5]\n",
        "case_folding = casefolding(raw_sample)\n",
        "\n",
        "print('Raw data\\t: ', raw_sample)\n",
        "print('Case folding\\t: ', case_folding)"
      ],
      "metadata": {
        "colab": {
          "base_uri": "https://localhost:8080/"
        },
        "id": "krmI4Lmt50nl",
        "outputId": "b300f387-5750-4af9-b1bf-f63662fd285c"
      },
      "execution_count": 12,
      "outputs": [
        {
          "output_type": "stream",
          "name": "stdout",
          "text": [
            "Raw data\t:  5 HARI LAGI ! EKSTRA Pulsa 50rb dg beli paket internet bulanan di MyTelkomsel utk pembelian pertama sjk 25Aug-25Sept. Cek detail promo di tsel.me/mytsel1\n",
            "Case folding\t:  hari lagi  ekstra pulsa rb dg beli paket internet bulanan di mytelkomsel utk pembelian pertama sjk augsept cek detail promo di tselmemytsel\n"
          ]
        }
      ]
    },
    {
      "cell_type": "markdown",
      "source": [
        "## Word Normalization"
      ],
      "metadata": {
        "id": "BMASVtI1DUN9"
      }
    },
    {
      "cell_type": "code",
      "source": [
        "# Download corpus singkatan\n",
        "!wget https://raw.githubusercontent.com/ksnugroho/klasifikasi-spam-sms/master/data/key_norm.csv"
      ],
      "metadata": {
        "colab": {
          "base_uri": "https://localhost:8080/"
        },
        "id": "u2f8REO6DTqi",
        "outputId": "f0c6dd36-858a-4ed8-a5e1-288506490d71"
      },
      "execution_count": 13,
      "outputs": [
        {
          "output_type": "stream",
          "name": "stdout",
          "text": [
            "--2022-03-28 16:33:35--  https://raw.githubusercontent.com/ksnugroho/klasifikasi-spam-sms/master/data/key_norm.csv\n",
            "Resolving raw.githubusercontent.com (raw.githubusercontent.com)... 185.199.108.133, 185.199.109.133, 185.199.110.133, ...\n",
            "Connecting to raw.githubusercontent.com (raw.githubusercontent.com)|185.199.108.133|:443... connected.\n",
            "HTTP request sent, awaiting response... 200 OK\n",
            "Length: 80969 (79K) [text/plain]\n",
            "Saving to: ‘key_norm.csv.2’\n",
            "\n",
            "\rkey_norm.csv.2        0%[                    ]       0  --.-KB/s               \rkey_norm.csv.2      100%[===================>]  79.07K  --.-KB/s    in 0.001s  \n",
            "\n",
            "2022-03-28 16:33:36 (73.8 MB/s) - ‘key_norm.csv.2’ saved [80969/80969]\n",
            "\n"
          ]
        }
      ]
    },
    {
      "cell_type": "code",
      "source": [
        "key_norm = pd.read_csv('key_norm.csv')\n",
        "\n",
        "def text_normalize(text):\n",
        "  text = ' '.join([key_norm[key_norm['singkat'] == word]['hasil'].values[0] if (key_norm['singkat'] == word).any() else word for word in text.split()])\n",
        "  text = str.lower(text)\n",
        "  return text"
      ],
      "metadata": {
        "id": "T1TDknAEDnoP"
      },
      "execution_count": 14,
      "outputs": []
    },
    {
      "cell_type": "markdown",
      "source": [
        "## Filtering (Stopword Removal)"
      ],
      "metadata": {
        "id": "OGq9TrHczTyV"
      }
    },
    {
      "cell_type": "code",
      "source": [
        "from nltk.tokenize import sent_tokenize, word_tokenize\n",
        "from nltk.corpus import stopwords\n",
        "\n",
        "stopwords_ind = stopwords.words('indonesian')"
      ],
      "metadata": {
        "id": "ocKJz_jxzc0o"
      },
      "execution_count": 15,
      "outputs": []
    },
    {
      "cell_type": "code",
      "source": [
        "len(stopwords_ind)"
      ],
      "metadata": {
        "colab": {
          "base_uri": "https://localhost:8080/"
        },
        "id": "FAGVokJg2zGE",
        "outputId": "71a85b5d-a414-4910-d715-a314acf3a17a"
      },
      "execution_count": 16,
      "outputs": [
        {
          "output_type": "execute_result",
          "data": {
            "text/plain": [
              "758"
            ]
          },
          "metadata": {},
          "execution_count": 16
        }
      ]
    },
    {
      "cell_type": "code",
      "source": [
        "# Lihat daftar stopword yang disediakan NLTK\n",
        "stopwords_ind"
      ],
      "metadata": {
        "colab": {
          "base_uri": "https://localhost:8080/"
        },
        "id": "AqkW2aV12XlG",
        "outputId": "fc7f7ffd-bf2c-40af-ffd8-a9bb4761ff7d"
      },
      "execution_count": 17,
      "outputs": [
        {
          "output_type": "execute_result",
          "data": {
            "text/plain": [
              "['ada',\n",
              " 'adalah',\n",
              " 'adanya',\n",
              " 'adapun',\n",
              " 'agak',\n",
              " 'agaknya',\n",
              " 'agar',\n",
              " 'akan',\n",
              " 'akankah',\n",
              " 'akhir',\n",
              " 'akhiri',\n",
              " 'akhirnya',\n",
              " 'aku',\n",
              " 'akulah',\n",
              " 'amat',\n",
              " 'amatlah',\n",
              " 'anda',\n",
              " 'andalah',\n",
              " 'antar',\n",
              " 'antara',\n",
              " 'antaranya',\n",
              " 'apa',\n",
              " 'apaan',\n",
              " 'apabila',\n",
              " 'apakah',\n",
              " 'apalagi',\n",
              " 'apatah',\n",
              " 'artinya',\n",
              " 'asal',\n",
              " 'asalkan',\n",
              " 'atas',\n",
              " 'atau',\n",
              " 'ataukah',\n",
              " 'ataupun',\n",
              " 'awal',\n",
              " 'awalnya',\n",
              " 'bagai',\n",
              " 'bagaikan',\n",
              " 'bagaimana',\n",
              " 'bagaimanakah',\n",
              " 'bagaimanapun',\n",
              " 'bagi',\n",
              " 'bagian',\n",
              " 'bahkan',\n",
              " 'bahwa',\n",
              " 'bahwasanya',\n",
              " 'baik',\n",
              " 'bakal',\n",
              " 'bakalan',\n",
              " 'balik',\n",
              " 'banyak',\n",
              " 'bapak',\n",
              " 'baru',\n",
              " 'bawah',\n",
              " 'beberapa',\n",
              " 'begini',\n",
              " 'beginian',\n",
              " 'beginikah',\n",
              " 'beginilah',\n",
              " 'begitu',\n",
              " 'begitukah',\n",
              " 'begitulah',\n",
              " 'begitupun',\n",
              " 'bekerja',\n",
              " 'belakang',\n",
              " 'belakangan',\n",
              " 'belum',\n",
              " 'belumlah',\n",
              " 'benar',\n",
              " 'benarkah',\n",
              " 'benarlah',\n",
              " 'berada',\n",
              " 'berakhir',\n",
              " 'berakhirlah',\n",
              " 'berakhirnya',\n",
              " 'berapa',\n",
              " 'berapakah',\n",
              " 'berapalah',\n",
              " 'berapapun',\n",
              " 'berarti',\n",
              " 'berawal',\n",
              " 'berbagai',\n",
              " 'berdatangan',\n",
              " 'beri',\n",
              " 'berikan',\n",
              " 'berikut',\n",
              " 'berikutnya',\n",
              " 'berjumlah',\n",
              " 'berkali-kali',\n",
              " 'berkata',\n",
              " 'berkehendak',\n",
              " 'berkeinginan',\n",
              " 'berkenaan',\n",
              " 'berlainan',\n",
              " 'berlalu',\n",
              " 'berlangsung',\n",
              " 'berlebihan',\n",
              " 'bermacam',\n",
              " 'bermacam-macam',\n",
              " 'bermaksud',\n",
              " 'bermula',\n",
              " 'bersama',\n",
              " 'bersama-sama',\n",
              " 'bersiap',\n",
              " 'bersiap-siap',\n",
              " 'bertanya',\n",
              " 'bertanya-tanya',\n",
              " 'berturut',\n",
              " 'berturut-turut',\n",
              " 'bertutur',\n",
              " 'berujar',\n",
              " 'berupa',\n",
              " 'besar',\n",
              " 'betul',\n",
              " 'betulkah',\n",
              " 'biasa',\n",
              " 'biasanya',\n",
              " 'bila',\n",
              " 'bilakah',\n",
              " 'bisa',\n",
              " 'bisakah',\n",
              " 'boleh',\n",
              " 'bolehkah',\n",
              " 'bolehlah',\n",
              " 'buat',\n",
              " 'bukan',\n",
              " 'bukankah',\n",
              " 'bukanlah',\n",
              " 'bukannya',\n",
              " 'bulan',\n",
              " 'bung',\n",
              " 'cara',\n",
              " 'caranya',\n",
              " 'cukup',\n",
              " 'cukupkah',\n",
              " 'cukuplah',\n",
              " 'cuma',\n",
              " 'dahulu',\n",
              " 'dalam',\n",
              " 'dan',\n",
              " 'dapat',\n",
              " 'dari',\n",
              " 'daripada',\n",
              " 'datang',\n",
              " 'dekat',\n",
              " 'demi',\n",
              " 'demikian',\n",
              " 'demikianlah',\n",
              " 'dengan',\n",
              " 'depan',\n",
              " 'di',\n",
              " 'dia',\n",
              " 'diakhiri',\n",
              " 'diakhirinya',\n",
              " 'dialah',\n",
              " 'diantara',\n",
              " 'diantaranya',\n",
              " 'diberi',\n",
              " 'diberikan',\n",
              " 'diberikannya',\n",
              " 'dibuat',\n",
              " 'dibuatnya',\n",
              " 'didapat',\n",
              " 'didatangkan',\n",
              " 'digunakan',\n",
              " 'diibaratkan',\n",
              " 'diibaratkannya',\n",
              " 'diingat',\n",
              " 'diingatkan',\n",
              " 'diinginkan',\n",
              " 'dijawab',\n",
              " 'dijelaskan',\n",
              " 'dijelaskannya',\n",
              " 'dikarenakan',\n",
              " 'dikatakan',\n",
              " 'dikatakannya',\n",
              " 'dikerjakan',\n",
              " 'diketahui',\n",
              " 'diketahuinya',\n",
              " 'dikira',\n",
              " 'dilakukan',\n",
              " 'dilalui',\n",
              " 'dilihat',\n",
              " 'dimaksud',\n",
              " 'dimaksudkan',\n",
              " 'dimaksudkannya',\n",
              " 'dimaksudnya',\n",
              " 'diminta',\n",
              " 'dimintai',\n",
              " 'dimisalkan',\n",
              " 'dimulai',\n",
              " 'dimulailah',\n",
              " 'dimulainya',\n",
              " 'dimungkinkan',\n",
              " 'dini',\n",
              " 'dipastikan',\n",
              " 'diperbuat',\n",
              " 'diperbuatnya',\n",
              " 'dipergunakan',\n",
              " 'diperkirakan',\n",
              " 'diperlihatkan',\n",
              " 'diperlukan',\n",
              " 'diperlukannya',\n",
              " 'dipersoalkan',\n",
              " 'dipertanyakan',\n",
              " 'dipunyai',\n",
              " 'diri',\n",
              " 'dirinya',\n",
              " 'disampaikan',\n",
              " 'disebut',\n",
              " 'disebutkan',\n",
              " 'disebutkannya',\n",
              " 'disini',\n",
              " 'disinilah',\n",
              " 'ditambahkan',\n",
              " 'ditandaskan',\n",
              " 'ditanya',\n",
              " 'ditanyai',\n",
              " 'ditanyakan',\n",
              " 'ditegaskan',\n",
              " 'ditujukan',\n",
              " 'ditunjuk',\n",
              " 'ditunjuki',\n",
              " 'ditunjukkan',\n",
              " 'ditunjukkannya',\n",
              " 'ditunjuknya',\n",
              " 'dituturkan',\n",
              " 'dituturkannya',\n",
              " 'diucapkan',\n",
              " 'diucapkannya',\n",
              " 'diungkapkan',\n",
              " 'dong',\n",
              " 'dua',\n",
              " 'dulu',\n",
              " 'empat',\n",
              " 'enggak',\n",
              " 'enggaknya',\n",
              " 'entah',\n",
              " 'entahlah',\n",
              " 'guna',\n",
              " 'gunakan',\n",
              " 'hal',\n",
              " 'hampir',\n",
              " 'hanya',\n",
              " 'hanyalah',\n",
              " 'hari',\n",
              " 'harus',\n",
              " 'haruslah',\n",
              " 'harusnya',\n",
              " 'hendak',\n",
              " 'hendaklah',\n",
              " 'hendaknya',\n",
              " 'hingga',\n",
              " 'ia',\n",
              " 'ialah',\n",
              " 'ibarat',\n",
              " 'ibaratkan',\n",
              " 'ibaratnya',\n",
              " 'ibu',\n",
              " 'ikut',\n",
              " 'ingat',\n",
              " 'ingat-ingat',\n",
              " 'ingin',\n",
              " 'inginkah',\n",
              " 'inginkan',\n",
              " 'ini',\n",
              " 'inikah',\n",
              " 'inilah',\n",
              " 'itu',\n",
              " 'itukah',\n",
              " 'itulah',\n",
              " 'jadi',\n",
              " 'jadilah',\n",
              " 'jadinya',\n",
              " 'jangan',\n",
              " 'jangankan',\n",
              " 'janganlah',\n",
              " 'jauh',\n",
              " 'jawab',\n",
              " 'jawaban',\n",
              " 'jawabnya',\n",
              " 'jelas',\n",
              " 'jelaskan',\n",
              " 'jelaslah',\n",
              " 'jelasnya',\n",
              " 'jika',\n",
              " 'jikalau',\n",
              " 'juga',\n",
              " 'jumlah',\n",
              " 'jumlahnya',\n",
              " 'justru',\n",
              " 'kala',\n",
              " 'kalau',\n",
              " 'kalaulah',\n",
              " 'kalaupun',\n",
              " 'kalian',\n",
              " 'kami',\n",
              " 'kamilah',\n",
              " 'kamu',\n",
              " 'kamulah',\n",
              " 'kan',\n",
              " 'kapan',\n",
              " 'kapankah',\n",
              " 'kapanpun',\n",
              " 'karena',\n",
              " 'karenanya',\n",
              " 'kasus',\n",
              " 'kata',\n",
              " 'katakan',\n",
              " 'katakanlah',\n",
              " 'katanya',\n",
              " 'ke',\n",
              " 'keadaan',\n",
              " 'kebetulan',\n",
              " 'kecil',\n",
              " 'kedua',\n",
              " 'keduanya',\n",
              " 'keinginan',\n",
              " 'kelamaan',\n",
              " 'kelihatan',\n",
              " 'kelihatannya',\n",
              " 'kelima',\n",
              " 'keluar',\n",
              " 'kembali',\n",
              " 'kemudian',\n",
              " 'kemungkinan',\n",
              " 'kemungkinannya',\n",
              " 'kenapa',\n",
              " 'kepada',\n",
              " 'kepadanya',\n",
              " 'kesampaian',\n",
              " 'keseluruhan',\n",
              " 'keseluruhannya',\n",
              " 'keterlaluan',\n",
              " 'ketika',\n",
              " 'khususnya',\n",
              " 'kini',\n",
              " 'kinilah',\n",
              " 'kira',\n",
              " 'kira-kira',\n",
              " 'kiranya',\n",
              " 'kita',\n",
              " 'kitalah',\n",
              " 'kok',\n",
              " 'kurang',\n",
              " 'lagi',\n",
              " 'lagian',\n",
              " 'lah',\n",
              " 'lain',\n",
              " 'lainnya',\n",
              " 'lalu',\n",
              " 'lama',\n",
              " 'lamanya',\n",
              " 'lanjut',\n",
              " 'lanjutnya',\n",
              " 'lebih',\n",
              " 'lewat',\n",
              " 'lima',\n",
              " 'luar',\n",
              " 'macam',\n",
              " 'maka',\n",
              " 'makanya',\n",
              " 'makin',\n",
              " 'malah',\n",
              " 'malahan',\n",
              " 'mampu',\n",
              " 'mampukah',\n",
              " 'mana',\n",
              " 'manakala',\n",
              " 'manalagi',\n",
              " 'masa',\n",
              " 'masalah',\n",
              " 'masalahnya',\n",
              " 'masih',\n",
              " 'masihkah',\n",
              " 'masing',\n",
              " 'masing-masing',\n",
              " 'mau',\n",
              " 'maupun',\n",
              " 'melainkan',\n",
              " 'melakukan',\n",
              " 'melalui',\n",
              " 'melihat',\n",
              " 'melihatnya',\n",
              " 'memang',\n",
              " 'memastikan',\n",
              " 'memberi',\n",
              " 'memberikan',\n",
              " 'membuat',\n",
              " 'memerlukan',\n",
              " 'memihak',\n",
              " 'meminta',\n",
              " 'memintakan',\n",
              " 'memisalkan',\n",
              " 'memperbuat',\n",
              " 'mempergunakan',\n",
              " 'memperkirakan',\n",
              " 'memperlihatkan',\n",
              " 'mempersiapkan',\n",
              " 'mempersoalkan',\n",
              " 'mempertanyakan',\n",
              " 'mempunyai',\n",
              " 'memulai',\n",
              " 'memungkinkan',\n",
              " 'menaiki',\n",
              " 'menambahkan',\n",
              " 'menandaskan',\n",
              " 'menanti',\n",
              " 'menanti-nanti',\n",
              " 'menantikan',\n",
              " 'menanya',\n",
              " 'menanyai',\n",
              " 'menanyakan',\n",
              " 'mendapat',\n",
              " 'mendapatkan',\n",
              " 'mendatang',\n",
              " 'mendatangi',\n",
              " 'mendatangkan',\n",
              " 'menegaskan',\n",
              " 'mengakhiri',\n",
              " 'mengapa',\n",
              " 'mengatakan',\n",
              " 'mengatakannya',\n",
              " 'mengenai',\n",
              " 'mengerjakan',\n",
              " 'mengetahui',\n",
              " 'menggunakan',\n",
              " 'menghendaki',\n",
              " 'mengibaratkan',\n",
              " 'mengibaratkannya',\n",
              " 'mengingat',\n",
              " 'mengingatkan',\n",
              " 'menginginkan',\n",
              " 'mengira',\n",
              " 'mengucapkan',\n",
              " 'mengucapkannya',\n",
              " 'mengungkapkan',\n",
              " 'menjadi',\n",
              " 'menjawab',\n",
              " 'menjelaskan',\n",
              " 'menuju',\n",
              " 'menunjuk',\n",
              " 'menunjuki',\n",
              " 'menunjukkan',\n",
              " 'menunjuknya',\n",
              " 'menurut',\n",
              " 'menuturkan',\n",
              " 'menyampaikan',\n",
              " 'menyangkut',\n",
              " 'menyatakan',\n",
              " 'menyebutkan',\n",
              " 'menyeluruh',\n",
              " 'menyiapkan',\n",
              " 'merasa',\n",
              " 'mereka',\n",
              " 'merekalah',\n",
              " 'merupakan',\n",
              " 'meski',\n",
              " 'meskipun',\n",
              " 'meyakini',\n",
              " 'meyakinkan',\n",
              " 'minta',\n",
              " 'mirip',\n",
              " 'misal',\n",
              " 'misalkan',\n",
              " 'misalnya',\n",
              " 'mula',\n",
              " 'mulai',\n",
              " 'mulailah',\n",
              " 'mulanya',\n",
              " 'mungkin',\n",
              " 'mungkinkah',\n",
              " 'nah',\n",
              " 'naik',\n",
              " 'namun',\n",
              " 'nanti',\n",
              " 'nantinya',\n",
              " 'nyaris',\n",
              " 'nyatanya',\n",
              " 'oleh',\n",
              " 'olehnya',\n",
              " 'pada',\n",
              " 'padahal',\n",
              " 'padanya',\n",
              " 'pak',\n",
              " 'paling',\n",
              " 'panjang',\n",
              " 'pantas',\n",
              " 'para',\n",
              " 'pasti',\n",
              " 'pastilah',\n",
              " 'penting',\n",
              " 'pentingnya',\n",
              " 'per',\n",
              " 'percuma',\n",
              " 'perlu',\n",
              " 'perlukah',\n",
              " 'perlunya',\n",
              " 'pernah',\n",
              " 'persoalan',\n",
              " 'pertama',\n",
              " 'pertama-tama',\n",
              " 'pertanyaan',\n",
              " 'pertanyakan',\n",
              " 'pihak',\n",
              " 'pihaknya',\n",
              " 'pukul',\n",
              " 'pula',\n",
              " 'pun',\n",
              " 'punya',\n",
              " 'rasa',\n",
              " 'rasanya',\n",
              " 'rata',\n",
              " 'rupanya',\n",
              " 'saat',\n",
              " 'saatnya',\n",
              " 'saja',\n",
              " 'sajalah',\n",
              " 'saling',\n",
              " 'sama',\n",
              " 'sama-sama',\n",
              " 'sambil',\n",
              " 'sampai',\n",
              " 'sampai-sampai',\n",
              " 'sampaikan',\n",
              " 'sana',\n",
              " 'sangat',\n",
              " 'sangatlah',\n",
              " 'satu',\n",
              " 'saya',\n",
              " 'sayalah',\n",
              " 'se',\n",
              " 'sebab',\n",
              " 'sebabnya',\n",
              " 'sebagai',\n",
              " 'sebagaimana',\n",
              " 'sebagainya',\n",
              " 'sebagian',\n",
              " 'sebaik',\n",
              " 'sebaik-baiknya',\n",
              " 'sebaiknya',\n",
              " 'sebaliknya',\n",
              " 'sebanyak',\n",
              " 'sebegini',\n",
              " 'sebegitu',\n",
              " 'sebelum',\n",
              " 'sebelumnya',\n",
              " 'sebenarnya',\n",
              " 'seberapa',\n",
              " 'sebesar',\n",
              " 'sebetulnya',\n",
              " 'sebisanya',\n",
              " 'sebuah',\n",
              " 'sebut',\n",
              " 'sebutlah',\n",
              " 'sebutnya',\n",
              " 'secara',\n",
              " 'secukupnya',\n",
              " 'sedang',\n",
              " 'sedangkan',\n",
              " 'sedemikian',\n",
              " 'sedikit',\n",
              " 'sedikitnya',\n",
              " 'seenaknya',\n",
              " 'segala',\n",
              " 'segalanya',\n",
              " 'segera',\n",
              " 'seharusnya',\n",
              " 'sehingga',\n",
              " 'seingat',\n",
              " 'sejak',\n",
              " 'sejauh',\n",
              " 'sejenak',\n",
              " 'sejumlah',\n",
              " 'sekadar',\n",
              " 'sekadarnya',\n",
              " 'sekali',\n",
              " 'sekali-kali',\n",
              " 'sekalian',\n",
              " 'sekaligus',\n",
              " 'sekalipun',\n",
              " 'sekarang',\n",
              " 'sekarang',\n",
              " 'sekecil',\n",
              " 'seketika',\n",
              " 'sekiranya',\n",
              " 'sekitar',\n",
              " 'sekitarnya',\n",
              " 'sekurang-kurangnya',\n",
              " 'sekurangnya',\n",
              " 'sela',\n",
              " 'selain',\n",
              " 'selaku',\n",
              " 'selalu',\n",
              " 'selama',\n",
              " 'selama-lamanya',\n",
              " 'selamanya',\n",
              " 'selanjutnya',\n",
              " 'seluruh',\n",
              " 'seluruhnya',\n",
              " 'semacam',\n",
              " 'semakin',\n",
              " 'semampu',\n",
              " 'semampunya',\n",
              " 'semasa',\n",
              " 'semasih',\n",
              " 'semata',\n",
              " 'semata-mata',\n",
              " 'semaunya',\n",
              " 'sementara',\n",
              " 'semisal',\n",
              " 'semisalnya',\n",
              " 'sempat',\n",
              " 'semua',\n",
              " 'semuanya',\n",
              " 'semula',\n",
              " 'sendiri',\n",
              " 'sendirian',\n",
              " 'sendirinya',\n",
              " 'seolah',\n",
              " 'seolah-olah',\n",
              " 'seorang',\n",
              " 'sepanjang',\n",
              " 'sepantasnya',\n",
              " 'sepantasnyalah',\n",
              " 'seperlunya',\n",
              " 'seperti',\n",
              " 'sepertinya',\n",
              " 'sepihak',\n",
              " 'sering',\n",
              " 'seringnya',\n",
              " 'serta',\n",
              " 'serupa',\n",
              " 'sesaat',\n",
              " 'sesama',\n",
              " 'sesampai',\n",
              " 'sesegera',\n",
              " 'sesekali',\n",
              " 'seseorang',\n",
              " 'sesuatu',\n",
              " 'sesuatunya',\n",
              " 'sesudah',\n",
              " 'sesudahnya',\n",
              " 'setelah',\n",
              " 'setempat',\n",
              " 'setengah',\n",
              " 'seterusnya',\n",
              " 'setiap',\n",
              " 'setiba',\n",
              " 'setibanya',\n",
              " 'setidak-tidaknya',\n",
              " 'setidaknya',\n",
              " 'setinggi',\n",
              " 'seusai',\n",
              " 'sewaktu',\n",
              " 'siap',\n",
              " 'siapa',\n",
              " 'siapakah',\n",
              " 'siapapun',\n",
              " 'sini',\n",
              " 'sinilah',\n",
              " 'soal',\n",
              " 'soalnya',\n",
              " 'suatu',\n",
              " 'sudah',\n",
              " 'sudahkah',\n",
              " 'sudahlah',\n",
              " 'supaya',\n",
              " 'tadi',\n",
              " 'tadinya',\n",
              " 'tahu',\n",
              " 'tahun',\n",
              " 'tak',\n",
              " 'tambah',\n",
              " 'tambahnya',\n",
              " 'tampak',\n",
              " 'tampaknya',\n",
              " 'tandas',\n",
              " 'tandasnya',\n",
              " 'tanpa',\n",
              " 'tanya',\n",
              " 'tanyakan',\n",
              " 'tanyanya',\n",
              " 'tapi',\n",
              " 'tegas',\n",
              " 'tegasnya',\n",
              " 'telah',\n",
              " 'tempat',\n",
              " 'tengah',\n",
              " 'tentang',\n",
              " 'tentu',\n",
              " 'tentulah',\n",
              " 'tentunya',\n",
              " 'tepat',\n",
              " 'terakhir',\n",
              " 'terasa',\n",
              " 'terbanyak',\n",
              " 'terdahulu',\n",
              " 'terdapat',\n",
              " 'terdiri',\n",
              " 'terhadap',\n",
              " 'terhadapnya',\n",
              " 'teringat',\n",
              " 'teringat-ingat',\n",
              " 'terjadi',\n",
              " 'terjadilah',\n",
              " 'terjadinya',\n",
              " 'terkira',\n",
              " 'terlalu',\n",
              " 'terlebih',\n",
              " 'terlihat',\n",
              " 'termasuk',\n",
              " 'ternyata',\n",
              " 'tersampaikan',\n",
              " 'tersebut',\n",
              " 'tersebutlah',\n",
              " 'tertentu',\n",
              " 'tertuju',\n",
              " 'terus',\n",
              " 'terutama',\n",
              " 'tetap',\n",
              " 'tetapi',\n",
              " 'tiap',\n",
              " 'tiba',\n",
              " 'tiba-tiba',\n",
              " 'tidak',\n",
              " 'tidakkah',\n",
              " 'tidaklah',\n",
              " 'tiga',\n",
              " 'tinggi',\n",
              " 'toh',\n",
              " 'tunjuk',\n",
              " 'turut',\n",
              " 'tutur',\n",
              " 'tuturnya',\n",
              " 'ucap',\n",
              " 'ucapnya',\n",
              " 'ujar',\n",
              " 'ujarnya',\n",
              " 'umum',\n",
              " 'umumnya',\n",
              " 'ungkap',\n",
              " 'ungkapnya',\n",
              " 'untuk',\n",
              " 'usah',\n",
              " 'usai',\n",
              " 'waduh',\n",
              " 'wah',\n",
              " 'wahai',\n",
              " 'waktu',\n",
              " 'waktunya',\n",
              " 'walau',\n",
              " 'walaupun',\n",
              " 'wong',\n",
              " 'yaitu',\n",
              " 'yakin',\n",
              " 'yakni',\n",
              " 'yang']"
            ]
          },
          "metadata": {},
          "execution_count": 17
        }
      ]
    },
    {
      "cell_type": "code",
      "source": [
        "# Buat fungsi untuk langkah stopword removal\n",
        "\n",
        "more_stopword = ['tsel', 'gb', 'rb']                    # Tambahkan kata dalam daftar stopword\n",
        "stopwords_ind = stopwords_ind + more_stopword\n",
        "\n",
        "def remove_stop_words(text):\n",
        "  clean_words = []\n",
        "  text = text.split()\n",
        "  for word in text:\n",
        "      if word not in stopwords_ind:\n",
        "          clean_words.append(word)\n",
        "  return \" \".join(clean_words)"
      ],
      "metadata": {
        "id": "EjLJSLrT2S6B"
      },
      "execution_count": 18,
      "outputs": []
    },
    {
      "cell_type": "code",
      "source": [
        "raw_sample = data['teks'].iloc[5]\n",
        "case_folding = casefolding(raw_sample)\n",
        "stopword_removal = remove_stop_words(case_folding)\n",
        "\n",
        "print('Raw data\\t\\t: ', raw_sample)\n",
        "print('Case folding\\t\\t: ', case_folding)\n",
        "print('Stopword removal\\t: ', stopword_removal)"
      ],
      "metadata": {
        "colab": {
          "base_uri": "https://localhost:8080/"
        },
        "id": "1QICnmDs5YEc",
        "outputId": "580b07df-d378-47b5-b9af-f00ad045add1"
      },
      "execution_count": 19,
      "outputs": [
        {
          "output_type": "stream",
          "name": "stdout",
          "text": [
            "Raw data\t\t:  5 HARI LAGI ! EKSTRA Pulsa 50rb dg beli paket internet bulanan di MyTelkomsel utk pembelian pertama sjk 25Aug-25Sept. Cek detail promo di tsel.me/mytsel1\n",
            "Case folding\t\t:  hari lagi  ekstra pulsa rb dg beli paket internet bulanan di mytelkomsel utk pembelian pertama sjk augsept cek detail promo di tselmemytsel\n",
            "Stopword removal\t:  ekstra pulsa dg beli paket internet bulanan mytelkomsel utk pembelian sjk augsept cek detail promo tselmemytsel\n"
          ]
        }
      ]
    },
    {
      "cell_type": "markdown",
      "source": [
        "## Stemming"
      ],
      "metadata": {
        "id": "SZCnsJAF75-8"
      }
    },
    {
      "cell_type": "code",
      "source": [
        "from Sastrawi.Stemmer.StemmerFactory import StemmerFactory\n",
        "\n",
        "factory = StemmerFactory()\n",
        "stemmer = factory.create_stemmer()\n",
        "\n",
        "# Buat fungsi untuk langkah stemming bahasa Indonesia\n",
        "def stemming(text):\n",
        "  text = stemmer.stem(text)\n",
        "  return text"
      ],
      "metadata": {
        "id": "vkJptlP_7_TB"
      },
      "execution_count": 20,
      "outputs": []
    },
    {
      "cell_type": "code",
      "source": [
        "raw_sample = data['teks'].iloc[5]\n",
        "case_folding = casefolding(raw_sample)\n",
        "stopword_removal = remove_stop_words(case_folding)\n",
        "text_stemming = stemming(stopword_removal)\n",
        "\n",
        "print('Raw data\\t\\t: ', raw_sample)\n",
        "print('Case folding\\t\\t: ', case_folding)\n",
        "print('Stopword removal\\t: ', stopword_removal)\n",
        "print('Stemming\\t\\t: ', text_stemming)"
      ],
      "metadata": {
        "colab": {
          "base_uri": "https://localhost:8080/"
        },
        "id": "1h6bHSBw8LP5",
        "outputId": "d26d8a18-7f14-4cc1-eecf-faacd57ae4c3"
      },
      "execution_count": 21,
      "outputs": [
        {
          "output_type": "stream",
          "name": "stdout",
          "text": [
            "Raw data\t\t:  5 HARI LAGI ! EKSTRA Pulsa 50rb dg beli paket internet bulanan di MyTelkomsel utk pembelian pertama sjk 25Aug-25Sept. Cek detail promo di tsel.me/mytsel1\n",
            "Case folding\t\t:  hari lagi  ekstra pulsa rb dg beli paket internet bulanan di mytelkomsel utk pembelian pertama sjk augsept cek detail promo di tselmemytsel\n",
            "Stopword removal\t:  ekstra pulsa dg beli paket internet bulanan mytelkomsel utk pembelian sjk augsept cek detail promo tselmemytsel\n",
            "Stemming\t\t:  ekstra pulsa dg beli paket internet bulan mytelkomsel utk beli sjk augsept cek detail promo tselmemytsel\n"
          ]
        }
      ]
    },
    {
      "cell_type": "markdown",
      "source": [
        "## Text Preprocessing Pipeline"
      ],
      "metadata": {
        "id": "EYxUP7B69HT3"
      }
    },
    {
      "cell_type": "code",
      "source": [
        "# Buat fungsi untuk menggabungkan seluruh langkah text preprocessing\n",
        "def text_preprocessing_process(text):\n",
        "  text = casefolding(text)\n",
        "  text = text_normalize(text)\n",
        "  text = remove_stop_words(text)\n",
        "  text = stemming(text)\n",
        "  return text"
      ],
      "metadata": {
        "id": "pVe1LL7B9QfT"
      },
      "execution_count": 22,
      "outputs": []
    },
    {
      "cell_type": "code",
      "source": [
        "%%time\n",
        "data['clean_teks'] = data['teks'].apply(text_preprocessing_process)\n",
        "\n",
        "# Perhatikan waktu komputasi ketika proses text preprocessing"
      ],
      "metadata": {
        "id": "TNKQowwo9sF4"
      },
      "execution_count": null,
      "outputs": []
    },
    {
      "cell_type": "code",
      "source": [
        "data"
      ],
      "metadata": {
        "id": "tIshorBt932a"
      },
      "execution_count": null,
      "outputs": []
    },
    {
      "cell_type": "code",
      "source": [
        "# Simpan data yang telah melalui text preprocessing agar kita tidak perlu menjalankan proses tersebut mulai awal (Opsional)\n",
        "data.to_csv('clean_data.csv')"
      ],
      "metadata": {
        "id": "eeXfrxd8yQAB"
      },
      "execution_count": null,
      "outputs": []
    },
    {
      "cell_type": "markdown",
      "source": [
        "# Feature Engineering"
      ],
      "metadata": {
        "id": "7ctyIbyEsPFi"
      }
    },
    {
      "cell_type": "code",
      "source": [
        "# Pisahkan kolom feature dan target\n",
        "X = data['clean_teks']\n",
        "y = data['label']"
      ],
      "metadata": {
        "id": "2t7BhFnWsSZe"
      },
      "execution_count": null,
      "outputs": []
    },
    {
      "cell_type": "code",
      "source": [
        "X"
      ],
      "metadata": {
        "id": "Cxu19lBHvcBb"
      },
      "execution_count": null,
      "outputs": []
    },
    {
      "cell_type": "code",
      "source": [
        "y"
      ],
      "metadata": {
        "id": "ZqkPMObpvcd2"
      },
      "execution_count": null,
      "outputs": []
    },
    {
      "cell_type": "markdown",
      "source": [
        "## Feature Extraction (Bag of Words & N-Gram)\n",
        "Proses mengubah teks menjadi vektor menggunakan metode BoW"
      ],
      "metadata": {
        "id": "uXHC1m8wu6bn"
      }
    },
    {
      "cell_type": "code",
      "source": [
        "'''\n",
        "Convert a collection of text documents to a matrix of token counts.\n",
        "https://scikit-learn.org/stable/modules/generated/sklearn.feature_extraction.text.CountVectorizer.html\n",
        "'''\n",
        "from sklearn.feature_extraction.text import CountVectorizer\n",
        "\n",
        "# BoW - Unigram\n",
        "vec = CountVectorizer(ngram_range=(1,1))\n",
        "vec.fit(X)"
      ],
      "metadata": {
        "id": "vQO-lSHlu3Zr"
      },
      "execution_count": null,
      "outputs": []
    },
    {
      "cell_type": "code",
      "source": [
        "# Melihat Jumlah Fitur\n",
        "print(len(vec.get_feature_names_out()))"
      ],
      "metadata": {
        "id": "Hb_aMoZkvdfg"
      },
      "execution_count": null,
      "outputs": []
    },
    {
      "cell_type": "code",
      "source": [
        "# Melihat fitur-fitur apa saja yang ada di dalam corpus\n",
        "print(vec.get_feature_names_out())"
      ],
      "metadata": {
        "id": "p1dyLe_zv4k4"
      },
      "execution_count": null,
      "outputs": []
    },
    {
      "cell_type": "code",
      "source": [
        "# Melihat matriks jumlah token\n",
        "# Data ini siap untuk dimasukkan dalam proses pemodelan (machine learning)\n",
        "\n",
        "X_unigram = vec.transform(X).toarray()\n",
        "\n",
        "X_unigram"
      ],
      "metadata": {
        "id": "7fGwg6HowMGn"
      },
      "execution_count": null,
      "outputs": []
    },
    {
      "cell_type": "code",
      "source": [
        "data_unigram = pd.DataFrame(X_unigram, columns=vec.get_feature_names_out())\n",
        "data_unigram"
      ],
      "metadata": {
        "id": "3z8w1_ub0tdz"
      },
      "execution_count": null,
      "outputs": []
    },
    {
      "cell_type": "code",
      "source": [
        ""
      ],
      "metadata": {
        "id": "DFHxvPPj0qp4"
      },
      "execution_count": null,
      "outputs": []
    },
    {
      "cell_type": "code",
      "source": [
        "with open('bow.pickle', 'wb') as output:\n",
        "  pickle.dump(X_unigram, output)"
      ],
      "metadata": {
        "id": "ffNHcPiY02cc"
      },
      "execution_count": null,
      "outputs": []
    },
    {
      "cell_type": "markdown",
      "source": [
        "## Feature Extraction (TF-IDF & N-Gram)\n",
        "Proses mengubah teks menjadi vector menggunakan metode TF-IDF"
      ],
      "metadata": {
        "id": "W8iKtPqjxR3s"
      }
    },
    {
      "cell_type": "code",
      "source": [
        "'''\n",
        "Convert a collection of raw documents to a matrix of TF-IDF features\n",
        "https://scikit-learn.org/stable/modules/generated/sklearn.feature_extraction.text.TfidfVectorizer.html\n",
        "'''\n",
        "from sklearn.feature_extraction.text import TfidfVectorizer\n",
        "\n",
        "tf_idf = TfidfVectorizer(ngram_range=(1,1))\n",
        "tf_idf.fit(X)\n",
        "\n",
        "X_tf_idf = tf_idf.transform(X)"
      ],
      "metadata": {
        "id": "XrcmVBXoxNZm"
      },
      "execution_count": null,
      "outputs": []
    },
    {
      "cell_type": "code",
      "source": [
        "# Melihat Jumlah Fitur\n",
        "print(len(tf_idf.get_feature_names_out()))"
      ],
      "metadata": {
        "id": "ELw2koCXyCph"
      },
      "execution_count": null,
      "outputs": []
    },
    {
      "cell_type": "code",
      "source": [
        "# Melihat fitur-fitur apa saja yang ada di dalam corpus\n",
        "print(tf_idf.get_feature_names_out())"
      ],
      "metadata": {
        "id": "P_5Yo-gpyJKN"
      },
      "execution_count": null,
      "outputs": []
    },
    {
      "cell_type": "code",
      "source": [
        "# Melihat matriks jumlah token menggunakan TF IDF, lihat perbedaannya dengan metode BoW\n",
        "# Data ini siap untuk dimasukkan dalam proses pemodelan (machine learning)\n",
        "\n",
        "X_tf_idf = tf_idf.transform(X).toarray()\n",
        "\n",
        "X_tf_idf"
      ],
      "metadata": {
        "id": "8oza2vPQyNYg"
      },
      "execution_count": null,
      "outputs": []
    },
    {
      "cell_type": "code",
      "source": [
        "data_tf_idf = pd.DataFrame(X_tf_idf, columns=tf_idf.get_feature_names_out())\n",
        "data_tf_idf"
      ],
      "metadata": {
        "id": "mWpH5yE11ulr"
      },
      "execution_count": null,
      "outputs": []
    },
    {
      "cell_type": "code",
      "source": [
        "with open('tf_idf.pickle', 'wb') as output:\n",
        "  pickle.dump(X_tf_idf, output)"
      ],
      "metadata": {
        "id": "ZWKDFffQ10EJ"
      },
      "execution_count": null,
      "outputs": []
    },
    {
      "cell_type": "markdown",
      "source": [
        "## Feature Selection"
      ],
      "metadata": {
        "id": "h5t0Aiuuyz-U"
      }
    },
    {
      "cell_type": "code",
      "source": [
        "# Mengubah nilai data tabular tf-idf menjadi array agar dapat dijalankan pada proses seleksi fitur\n",
        "X = np.array(data_tf_idf)\n",
        "y = np.array(y)"
      ],
      "metadata": {
        "id": "WrRkpAiwyzdZ"
      },
      "execution_count": null,
      "outputs": []
    },
    {
      "cell_type": "code",
      "source": [
        "'''\n",
        "Select features according to the k highest scores.\n",
        "https://scikit-learn.org/stable/modules/generated/sklearn.feature_selection.SelectKBest.html\n",
        "\n",
        "Compute chi-squared stats between each non-negative feature and class.\n",
        "https://scikit-learn.org/stable/modules/generated/sklearn.feature_selection.chi2.html\n",
        "'''\n",
        "\n",
        "from sklearn.feature_selection import SelectKBest \n",
        "from sklearn.feature_selection import chi2 \n",
        "\n",
        "# Ten features with highest chi-squared statistics are selected \n",
        "chi2_features = SelectKBest(chi2, k=1000) \n",
        "X_kbest_features = chi2_features.fit_transform(X, y) \n",
        "  \n",
        "# Reduced features \n",
        "print('Original feature number:', X.shape[1]) \n",
        "print('Reduced feature number:', X_kbest_features.shape[1]) "
      ],
      "metadata": {
        "id": "sTPpd8ikyo_I"
      },
      "execution_count": null,
      "outputs": []
    },
    {
      "cell_type": "code",
      "source": [
        "# chi2_features.scores_ adalah nilai chi-square, semakin tinggi nilainya maka semakin baik fiturnya\n",
        "data_chi2 = pd.DataFrame(chi2_features.scores_, columns=['nilai'])\n",
        "data_chi2"
      ],
      "metadata": {
        "id": "LdseJ5DI_4lk"
      },
      "execution_count": null,
      "outputs": []
    },
    {
      "cell_type": "code",
      "source": [
        "# Menampilkan fitur beserta nilainya\n",
        "feature = tf_idf.get_feature_names_out()\n",
        "data_chi2['fitur'] = feature\n",
        "data_chi2"
      ],
      "metadata": {
        "id": "LC5Q7oSB_8RP"
      },
      "execution_count": null,
      "outputs": []
    },
    {
      "cell_type": "code",
      "source": [
        "# Mengurutkan fitur terbaik\n",
        "data_chi2.sort_values(by='nilai', ascending=False)"
      ],
      "metadata": {
        "id": "b9kZnH0rAoUK"
      },
      "execution_count": null,
      "outputs": []
    },
    {
      "cell_type": "code",
      "source": [
        "# Menampilkan mask pada feature yang diseleksi\n",
        "# False berarti fitur tidak terpilih dan True berarti fitur terpilih\n",
        "mask = chi2_features.get_support()\n",
        "mask"
      ],
      "metadata": {
        "id": "WEzCob-oA7pt"
      },
      "execution_count": null,
      "outputs": []
    },
    {
      "cell_type": "code",
      "source": [
        "# Menampilkan fitur-fitur terpilih berdasarkan mask atau nilai tertinggi yang sudah dikalkulasi pada Chi-Square\n",
        "new_feature = []\n",
        "for bool, f in zip(mask, feature):\n",
        "  if bool:\n",
        "    new_feature.append(f)\n",
        "  selected_feature = new_feature\n",
        "selected_feature"
      ],
      "metadata": {
        "id": "iyjhdOE1A-hI"
      },
      "execution_count": null,
      "outputs": []
    },
    {
      "cell_type": "code",
      "source": [
        "# Menampilkan fitur-fitur yang sudah diseleksi \n",
        "# Beserta nilai vektornya pada keseluruhan data untuk dijalankan pada proses machine learning\n",
        "\n",
        "# Hanya k fitur yang terpilih sesuai parameter k yang ditentukan sebelumnya\n",
        "\n",
        "data_selected_feature = pd.DataFrame(X_kbest_features, columns=selected_feature)\n",
        "data_selected_feature"
      ],
      "metadata": {
        "id": "vjsjV7bjBAw6"
      },
      "execution_count": null,
      "outputs": []
    },
    {
      "cell_type": "code",
      "source": [
        "with open('best_feature.pickle', 'wb') as output:\n",
        "  pickle.dump(X_kbest_features, output)"
      ],
      "metadata": {
        "id": "NU0JcpL6PLEX"
      },
      "execution_count": null,
      "outputs": []
    },
    {
      "cell_type": "markdown",
      "source": [
        "# Modelling (Machine Learning)"
      ],
      "metadata": {
        "id": "RD0xKtir-1Dd"
      }
    },
    {
      "cell_type": "code",
      "source": [
        "# Coming soon"
      ],
      "metadata": {
        "id": "fSm4HPLg-3O8"
      },
      "execution_count": null,
      "outputs": []
    },
    {
      "cell_type": "markdown",
      "source": [
        "# Model Evaluation"
      ],
      "metadata": {
        "id": "mf4_vPvN-45h"
      }
    },
    {
      "cell_type": "code",
      "source": [
        "# Coming soon"
      ],
      "metadata": {
        "id": "osgLQLWM-6d8"
      },
      "execution_count": null,
      "outputs": []
    },
    {
      "cell_type": "markdown",
      "source": [
        "# Deployment"
      ],
      "metadata": {
        "id": "zTcK_p_9--Gp"
      }
    },
    {
      "cell_type": "code",
      "source": [
        "# Coming soon"
      ],
      "metadata": {
        "id": "KZ5Pw5qg-9IF"
      },
      "execution_count": null,
      "outputs": []
    },
    {
      "cell_type": "markdown",
      "source": [
        "# WordCloud"
      ],
      "metadata": {
        "id": "6SZScK1VBxEJ"
      }
    },
    {
      "cell_type": "code",
      "source": [
        "# Import Library WordCloud. WordCloud digunakan untuk melihat secara visual kata-kata yang paling sering muncul.\n",
        "# Import Library cv2 untuk mengolah gambar menjadi masking WordCloud\n",
        "\n",
        "import cv2\n",
        "from wordcloud import WordCloud"
      ],
      "metadata": {
        "id": "T4MOec2iBzOs"
      },
      "execution_count": null,
      "outputs": []
    },
    {
      "cell_type": "code",
      "source": [
        "# Download gambar masking\n",
        "!wget https://raw.githubusercontent.com/ksnugroho/klasifikasi-spam-sms/master/img/cloud.jpg"
      ],
      "metadata": {
        "id": "bdXgYyVwHxAy"
      },
      "execution_count": null,
      "outputs": []
    },
    {
      "cell_type": "code",
      "source": [
        "originalImage = cv2.imread('cloud.jpg')\n",
        "grayImage = cv2.cvtColor(originalImage, cv2.COLOR_BGR2GRAY)\n",
        "(thresh, cloud_mask) = cv2.threshold(grayImage, 100, 255, cv2.THRESH_BINARY)"
      ],
      "metadata": {
        "id": "bvv2xSrkIOsj"
      },
      "execution_count": null,
      "outputs": []
    },
    {
      "cell_type": "code",
      "source": [
        "# Tampilkan masking\n",
        "from google.colab.patches import cv2_imshow\n",
        "\n",
        "cv2_imshow(cloud_mask)"
      ],
      "metadata": {
        "id": "u_yRrrXIL3RS"
      },
      "execution_count": null,
      "outputs": []
    },
    {
      "cell_type": "code",
      "source": [
        "# WordCloud Label SMS Normal\n",
        "\n",
        "sms_normal = data[data.label == 0]\n",
        "normal_string = []\n",
        "\n",
        "for t in sms_normal.clean_teks:\n",
        "  normal_string.append(t)\n",
        "\n",
        "normal_string = pd.Series(normal_string).str.cat(sep=' ')\n",
        "from wordcloud import WordCloud\n",
        "\n",
        "wordcloud = WordCloud(width=1600, height=800, margin=10,\n",
        "                      background_color='white', colormap='Dark2',\n",
        "                      max_font_size=200, min_font_size=25,\n",
        "                      mask=cloud_mask, contour_width=10, contour_color='firebrick',\n",
        "                      max_words=100).generate(normal_string)\n",
        "plt.figure(figsize=(10,8))\n",
        "plt.imshow(wordcloud)\n",
        "plt.axis(\"off\")\n",
        "plt.show()"
      ],
      "metadata": {
        "id": "bPmGM2KOJdIZ"
      },
      "execution_count": null,
      "outputs": []
    },
    {
      "cell_type": "code",
      "source": [
        "# WordCloud Label SMS Fraud / Penipuan\n",
        "\n",
        "sms_fraud = data[data.label == 1]\n",
        "fraud_string = []\n",
        "\n",
        "for t in sms_fraud.clean_teks:\n",
        "  fraud_string.append(t)\n",
        "\n",
        "fraud_string = pd.Series(fraud_string).str.cat(sep=' ')\n",
        "from wordcloud import WordCloud\n",
        "\n",
        "wordcloud = WordCloud(width=1600, height=800, margin=10,\n",
        "                      background_color='white', colormap='Dark2',\n",
        "                      max_font_size=200, min_font_size=25,\n",
        "                      mask=cloud_mask, contour_width=10, contour_color='firebrick',\n",
        "                      max_words=100).generate(fraud_string)\n",
        "plt.figure(figsize=(10,8))\n",
        "plt.imshow(wordcloud)\n",
        "plt.axis(\"off\")\n",
        "plt.show()"
      ],
      "metadata": {
        "id": "4AgP0d7eKFbc"
      },
      "execution_count": null,
      "outputs": []
    },
    {
      "cell_type": "code",
      "source": [
        "# WordCloud Label SMS Promo\n",
        "\n",
        "sms_promo = data[data.label == 2]\n",
        "promo_string = []\n",
        "\n",
        "for t in sms_promo.clean_teks:\n",
        "  promo_string.append(t)\n",
        "\n",
        "promo_string = pd.Series(promo_string).str.cat(sep=' ')\n",
        "from wordcloud import WordCloud\n",
        "\n",
        "wordcloud = WordCloud(width=1600, height=800, margin=10,\n",
        "                      background_color='white', colormap='Dark2',\n",
        "                      max_font_size=200, min_font_size=25,\n",
        "                      mask=cloud_mask, contour_width=10, contour_color='firebrick',\n",
        "                      max_words=100).generate(promo_string)\n",
        "plt.figure(figsize=(10,8))\n",
        "plt.imshow(wordcloud)\n",
        "plt.axis(\"off\")\n",
        "plt.show()"
      ],
      "metadata": {
        "id": "bOFLsBZsKc15"
      },
      "execution_count": null,
      "outputs": []
    },
    {
      "cell_type": "markdown",
      "source": [
        "# Student Activity\n",
        "Lakukan proses di atas menggunakan dataset review product https://drive.google.com/file/d/1qn5WXp-H95_FL_Rx5oqvfZaflYdHsnrF/view?usp=sharing\n",
        "\n",
        "Tugas Anda:\n",
        "- Tentukan langkah pre-processing yang tepat untuk dataset di atas.\n",
        "- Gunakan range `n_gram` yang berbeda. Amati apa perbedaannya.\n",
        "- Menurut Anda, apakah `term` yang dihasilkan (`X_kbest_features`) pada feature selection sudah memiliki informasi yang relevan?\n",
        "\n",
        "Setelah dikerjakan, buatlah resume berdasarkan pengalaman Anda dalam melakukan pre-processing dan feature engineering.\n",
        "\n",
        "Kumpulkan tugas Anda pada: https://s.id/tugas-nlp-ofa\n",
        "\n"
      ],
      "metadata": {
        "id": "_w7LeKa8NdTJ"
      }
    },
    {
      "cell_type": "code",
      "source": [
        "data = pd.read_csv('Lazada.csv')\n",
        "data = data[['reviewContent','rating']]\n",
        "data = data.dropna()\n",
        "data.head()"
      ],
      "metadata": {
        "id": "xKxVxcMyNf43"
      },
      "execution_count": null,
      "outputs": []
    },
    {
      "cell_type": "code",
      "source": [
        "data.info()"
      ],
      "metadata": {
        "id": "dH3uPLS_-zRC"
      },
      "execution_count": null,
      "outputs": []
    },
    {
      "cell_type": "code",
      "source": [
        "height = data['rating'].value_counts().sort_values(ascending=True)\n",
        "labels = ('Rating 1','Rating 2','Rating 3','Rating 4','Rating 5')\n",
        "y_pos = np.arange(len(labels))\n",
        "\n",
        "plt.figure(figsize=(7,4), dpi=80)\n",
        "plt.ylim(0,80000)\n",
        "plt.title('Distribusi Kategori Review Content', fontweight='bold')\n",
        "plt.xlabel('Kategori Rating', fontweight='bold')\n",
        "plt.ylabel('Jumlah Rating', fontweight='bold')\n",
        "plt.bar(y_pos, height, color=['deepskyblue', 'royalblue', 'skyblue'])\n",
        "plt.xticks(y_pos, labels)\n",
        "plt.show()"
      ],
      "metadata": {
        "id": "x17CRxX3A76_"
      },
      "execution_count": null,
      "outputs": []
    },
    {
      "cell_type": "code",
      "source": [
        "label=[]\n",
        "for index, row in data.iterrows():\n",
        "    if row['rating']==5:\n",
        "        label.append(1)\n",
        "    else:\n",
        "        label.append(0)\n",
        "\n",
        "data['label']=label\n",
        "data_lazada=data.drop(columns='rating', axis=1)\n",
        "data_lazada.head()"
      ],
      "metadata": {
        "id": "9f7uqWFjAsGp"
      },
      "execution_count": null,
      "outputs": []
    },
    {
      "cell_type": "code",
      "source": [
        "%%time\n",
        "data['clean_teks'] = data_lazada['reviewContent'].apply(text_preprocessing_process)\n",
        "\n",
        "# Perhatikan waktu komputasi ketika proses text preprocessing"
      ],
      "metadata": {
        "id": "f71Y3GBZA59Z"
      },
      "execution_count": null,
      "outputs": []
    },
    {
      "cell_type": "code",
      "source": [
        "data"
      ],
      "metadata": {
        "id": "oZ2tI6C5UEx2"
      },
      "execution_count": null,
      "outputs": []
    },
    {
      "cell_type": "code",
      "source": [
        "# Simpan data yang telah melalui text preprocessing agar kita tidak perlu menjalankan proses tersebut mulai awal (Opsional)\n",
        "data.to_csv('clean_data.csv')"
      ],
      "metadata": {
        "id": "hNrxs4eWUY2O"
      },
      "execution_count": null,
      "outputs": []
    },
    {
      "cell_type": "markdown",
      "source": [
        "# Feature Engineering"
      ],
      "metadata": {
        "id": "fhma4QanUkjA"
      }
    },
    {
      "cell_type": "code",
      "source": [
        "# Pisahkan kolom feature dan target\n",
        "X = data['clean_teks']\n",
        "y = data['label']"
      ],
      "metadata": {
        "id": "yfG54KOiUjtO"
      },
      "execution_count": null,
      "outputs": []
    },
    {
      "cell_type": "code",
      "source": [
        "X"
      ],
      "metadata": {
        "id": "QZBjR406Unjn"
      },
      "execution_count": null,
      "outputs": []
    },
    {
      "cell_type": "code",
      "source": [
        "y"
      ],
      "metadata": {
        "id": "oVek3-BfUpov"
      },
      "execution_count": null,
      "outputs": []
    },
    {
      "cell_type": "markdown",
      "source": [
        "## Feature Extraction (Bag of Words & N-Gram)\n",
        "Proses mengubah teks menjadi vektor menggunakan metode BoW"
      ],
      "metadata": {
        "id": "gNj9dMODXeKa"
      }
    },
    {
      "cell_type": "code",
      "source": [
        "# BoW - Unigram\n",
        "vec = CountVectorizer(ngram_range=(1,1))\n",
        "vec.fit(X)"
      ],
      "metadata": {
        "id": "4KrPtcZMUsN-"
      },
      "execution_count": null,
      "outputs": []
    },
    {
      "cell_type": "code",
      "source": [
        "# Melihat Jumlah Fitur\n",
        "print(len(vec.get_feature_names_out()))"
      ],
      "metadata": {
        "id": "qxH1I2rkXlGh"
      },
      "execution_count": null,
      "outputs": []
    },
    {
      "cell_type": "code",
      "source": [
        "# Melihat fitur-fitur apa saja yang ada di dalam corpus\n",
        "print(vec.get_feature_names_out())"
      ],
      "metadata": {
        "id": "iguRUHDQXm4Q"
      },
      "execution_count": null,
      "outputs": []
    },
    {
      "cell_type": "code",
      "source": [
        "# Melihat matriks jumlah token\n",
        "# Data ini siap untuk dimasukkan dalam proses pemodelan (machine learning)\n",
        "\n",
        "X_unigram = vec.transform(X).toarray()\n",
        "\n",
        "X_unigram"
      ],
      "metadata": {
        "id": "t080pEeWXqHf"
      },
      "execution_count": null,
      "outputs": []
    },
    {
      "cell_type": "code",
      "source": [
        "data_unigram = pd.DataFrame(X_unigram, columns=vec.get_feature_names_out())\n",
        "data_unigram"
      ],
      "metadata": {
        "id": "83_EnHqFXtrX"
      },
      "execution_count": null,
      "outputs": []
    }
  ]
}